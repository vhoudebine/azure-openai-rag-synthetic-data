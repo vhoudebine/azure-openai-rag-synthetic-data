{
 "cells": [
  {
   "cell_type": "markdown",
   "metadata": {},
   "source": [
    "## Synthetic RAG evaluation data using Azure OpenAI"
   ]
  },
  {
   "cell_type": "markdown",
   "metadata": {},
   "source": [
    "### 1.1 Prepare source documents"
   ]
  },
  {
   "cell_type": "code",
   "execution_count": 13,
   "metadata": {},
   "outputs": [
    {
     "name": "stdout",
     "output_type": "stream",
     "text": [
      "The PDF has 446 pages.\n"
     ]
    }
   ],
   "source": [
    "from langchain_community.document_loaders import PyPDFLoader\n",
    "\n",
    "file_path = './data/r1t-owner-guide.pdf'\n",
    "loader = PyPDFLoader(file_path)\n",
    "pages = loader.load_and_split()\n",
    "\n",
    "print(f'The PDF has {len(pages)} pages.')\n"
   ]
  },
  {
   "cell_type": "code",
   "execution_count": 14,
   "metadata": {},
   "outputs": [],
   "source": [
    "from langchain.text_splitter import RecursiveCharacterTextSplitter\n",
    "# split documents into text and embeddings\n",
    "\n",
    "text_splitter = RecursiveCharacterTextSplitter(\n",
    "   chunk_size=1024, \n",
    "   chunk_overlap=200,\n",
    "   length_function=len,\n",
    "   is_separator_regex=False\n",
    ")\n",
    "\n",
    "pages_sample = pages[70:85]\n",
    "\n",
    "chunks = text_splitter.split_documents(pages_sample)"
   ]
  },
  {
   "cell_type": "code",
   "execution_count": 15,
   "metadata": {},
   "outputs": [
    {
     "name": "stdout",
     "output_type": "stream",
     "text": [
      "71OCCUPANCY  DETECTION\n",
      "To ensure  that  the Occupant  Classification  System  (OCS)  is properly  classifying  the front  seat  occupant,  the \n",
      "occupant  must:\n",
      "  lSit upright  on the center  of the seat  cushion,  with  shoulders  and  back  resting  against  the seat  back,  and  with  \n",
      "legs  comfortably  extended  on the floor.\n",
      "  lRemain  seated  on the center  of the seat  cushion  for the duration  of the trip.\n",
      "The  OCS  may  not classify  the front  seat  occupant  properly  if the occupant  does  any of the following:\n",
      "  lFails  to sit in an upright  position.\n",
      "  lLeans  against  the door  or center  console.\n",
      "  lSits  toward  the front  edge  of the seat.\n",
      "  lPuts  their  legs  and  feet  on the dashboard.\n",
      "  lPulls  the seat  belt  all the way  out activating  the Automatic  Locking  Retractor  (ALR).\n",
      "If an occupant  of adult  size  is sitting  in the front  passenger  seat,  but the Passenger  Airbag  Off indicator  on the\n"
     ]
    }
   ],
   "source": [
    "# Print the first chunk\n",
    "print(chunks[0].page_content)"
   ]
  },
  {
   "cell_type": "markdown",
   "metadata": {},
   "source": [
    "### 1.2 Set up Azure Open AI agent for Question-Answer generation"
   ]
  },
  {
   "cell_type": "code",
   "execution_count": 16,
   "metadata": {},
   "outputs": [
    {
     "data": {
      "text/plain": [
       "True"
      ]
     },
     "execution_count": 16,
     "metadata": {},
     "output_type": "execute_result"
    }
   ],
   "source": [
    "from openai import AzureOpenAI\n",
    "import os\n",
    "import dotenv\n",
    "\n",
    "dotenv.load_dotenv('.env')\n"
   ]
  },
  {
   "cell_type": "code",
   "execution_count": 17,
   "metadata": {},
   "outputs": [],
   "source": [
    "\n",
    "client = AzureOpenAI(\n",
    "  api_key = os.getenv(\"AZURE_OPENAI_API_KEY\"),  \n",
    "  api_version = \"2024-02-01\",\n",
    "  azure_endpoint = os.getenv(\"AZURE_OPENAI_ENDPOINT\")\n",
    ")"
   ]
  },
  {
   "cell_type": "code",
   "execution_count": 18,
   "metadata": {},
   "outputs": [],
   "source": [
    "system_prompt = \"\"\"\n",
    "Your task is to write a factoid question and an answer as JSON given a context.\n",
    "Your factoid question should be answerable with a specific, concise piece of factual information from the context.\n",
    "Your factoid question should be formulated in the same style as questions users could ask in a search engine.\n",
    "This means that your factoid question MUST NOT mention something like \"according to the passage\" or \"context\".\n",
    "\n",
    "Provide your answer in JSON format as follows:\n",
    "\n",
    "Output:::\n",
    "{\"question\": (your factoid question), \"answer\": (your answer to the factoid question)}\n",
    "\"\"\""
   ]
  },
  {
   "cell_type": "code",
   "execution_count": 19,
   "metadata": {},
   "outputs": [],
   "source": [
    "def call_azure_openai(client, system_prompt, context):\n",
    "    try:\n",
    "        response = client.chat.completions.create(\n",
    "            model=\"gpt4-1106\", # Model = should match the deployment name you chose for your 0125-Preview model deployment\n",
    "            response_format={ \"type\": \"json_object\" },\n",
    "            messages=[\n",
    "            {\"role\": \"system\", \"content\": system_prompt},\n",
    "            {\"role\": \"user\", \"content\": f\"\"\"Here is the context. Context: {context} \\n\"\"\"}\n",
    "        ]\n",
    "        )\n",
    "        return response.choices[0].message.content\n",
    "    except Exception as e:\n",
    "        print(e)\n"
   ]
  },
  {
   "cell_type": "markdown",
   "metadata": {},
   "source": [
    "### 1.3 Generating Q&A pairs "
   ]
  },
  {
   "cell_type": "code",
   "execution_count": 20,
   "metadata": {},
   "outputs": [
    {
     "name": "stderr",
     "output_type": "stream",
     "text": [
      "/home/vhoudebine/miniconda3/envs/openai/lib/python3.11/site-packages/tqdm/auto.py:21: TqdmWarning: IProgress not found. Please update jupyter and ipywidgets. See https://ipywidgets.readthedocs.io/en/stable/user_install.html\n",
      "  from .autonotebook import tqdm as notebook_tqdm\n"
     ]
    },
    {
     "name": "stdout",
     "output_type": "stream",
     "text": [
      "Generating 20 QA couples...\n"
     ]
    },
    {
     "name": "stderr",
     "output_type": "stream",
     "text": [
      "100%|██████████| 20/20 [01:58<00:00,  5.92s/it]\n"
     ]
    }
   ],
   "source": [
    "import random\n",
    "import pandas as pd\n",
    "from tqdm.auto import tqdm\n",
    "import json\n",
    "\n",
    "n_samples = 20  # We intentionally generate only 10 QA couples here for cost and time considerations\n",
    "\n",
    "print(f\"Generating {n_samples} QA couples...\")\n",
    "\n",
    "outputs = []\n",
    "for sampled_context in tqdm(random.sample(chunks, n_samples)):\n",
    "    # Generate QA couple\n",
    "    output_QA_couple = call_azure_openai(client, system_prompt, sampled_context.page_content)\n",
    "    try:\n",
    "        output_QA_couple = json.loads(output_QA_couple)\n",
    "        output_QA_couple[\"context\"] = sampled_context.page_content\n",
    "        outputs.append(output_QA_couple)\n",
    "    except:\n",
    "        print(\"Error in generating QA couple. Skipping...\")\n",
    "        continue"
   ]
  },
  {
   "cell_type": "code",
   "execution_count": 21,
   "metadata": {},
   "outputs": [
    {
     "data": {
      "text/html": [
       "<div>\n",
       "<style scoped>\n",
       "    .dataframe tbody tr th:only-of-type {\n",
       "        vertical-align: middle;\n",
       "    }\n",
       "\n",
       "    .dataframe tbody tr th {\n",
       "        vertical-align: top;\n",
       "    }\n",
       "\n",
       "    .dataframe thead th {\n",
       "        text-align: right;\n",
       "    }\n",
       "</style>\n",
       "<table border=\"1\" class=\"dataframe\">\n",
       "  <thead>\n",
       "    <tr style=\"text-align: right;\">\n",
       "      <th></th>\n",
       "      <th>question</th>\n",
       "      <th>answer</th>\n",
       "      <th>context</th>\n",
       "    </tr>\n",
       "  </thead>\n",
       "  <tbody>\n",
       "    <tr>\n",
       "      <th>0</th>\n",
       "      <td>What is the recommended age for children to be...</td>\n",
       "      <td>12 years old and younger</td>\n",
       "      <td>74Children  in Rear  Seats\\nAlthough  your  ve...</td>\n",
       "    </tr>\n",
       "    <tr>\n",
       "      <th>1</th>\n",
       "      <td>At what speed do side mirrors automatically un...</td>\n",
       "      <td>15 mph (25 km/h)</td>\n",
       "      <td>81NOTES   \\n  lIn below  freezing  temperature...</td>\n",
       "    </tr>\n",
       "    <tr>\n",
       "      <th>2</th>\n",
       "      <td>Where is the Tire and Loading Information labe...</td>\n",
       "      <td>on the driver's door pillar</td>\n",
       "      <td>85Load  Capacity\\nThe  Tire  and  Loading  Inf...</td>\n",
       "    </tr>\n",
       "    <tr>\n",
       "      <th>3</th>\n",
       "      <td>How do you express close a window in a car?</td>\n",
       "      <td>Pull the window switch up past the second notc...</td>\n",
       "      <td>76WINDOWS\\nOpen  or Close  Windows\\nOPEN  OR C...</td>\n",
       "    </tr>\n",
       "    <tr>\n",
       "      <th>4</th>\n",
       "      <td>Where is the indicator light that shows the st...</td>\n",
       "      <td>on the center display</td>\n",
       "      <td>73\\nDANGER   \\n  lFollow  the proper  seating ...</td>\n",
       "    </tr>\n",
       "    <tr>\n",
       "      <th>5</th>\n",
       "      <td>What does the Window Locks feature remember on...</td>\n",
       "      <td>The previous setting</td>\n",
       "      <td>switch  for that  window  on the driver's  doo...</td>\n",
       "    </tr>\n",
       "    <tr>\n",
       "      <th>6</th>\n",
       "      <td>What triggers the side mirrors to automaticall...</td>\n",
       "      <td>The ambient lighting sensors in the rearview m...</td>\n",
       "      <td>the side  mirrors  unfold  automatically  when...</td>\n",
       "    </tr>\n",
       "    <tr>\n",
       "      <th>7</th>\n",
       "      <td>What should a Rivian owner do if the airbag st...</td>\n",
       "      <td>Contact Rivian immediately to have the airbag ...</td>\n",
       "      <td>Rivian  immediately  to have  the airbag  syst...</td>\n",
       "    </tr>\n",
       "    <tr>\n",
       "      <th>8</th>\n",
       "      <td>Where should a toll device be placed to avoid ...</td>\n",
       "      <td>On the interior of the windshield behind the r...</td>\n",
       "      <td>79Toll  Devices\\nTo determine  where  to place...</td>\n",
       "    </tr>\n",
       "    <tr>\n",
       "      <th>9</th>\n",
       "      <td>How do you lock both rear passenger windows us...</td>\n",
       "      <td>Choose the Vehicle button, then in the Access ...</td>\n",
       "      <td>77Lock  or Unlock  Passenger  Windows\\nTo lock...</td>\n",
       "    </tr>\n",
       "  </tbody>\n",
       "</table>\n",
       "</div>"
      ],
      "text/plain": [
       "                                            question  \\\n",
       "0  What is the recommended age for children to be...   \n",
       "1  At what speed do side mirrors automatically un...   \n",
       "2  Where is the Tire and Loading Information labe...   \n",
       "3        How do you express close a window in a car?   \n",
       "4  Where is the indicator light that shows the st...   \n",
       "5  What does the Window Locks feature remember on...   \n",
       "6  What triggers the side mirrors to automaticall...   \n",
       "7  What should a Rivian owner do if the airbag st...   \n",
       "8  Where should a toll device be placed to avoid ...   \n",
       "9  How do you lock both rear passenger windows us...   \n",
       "\n",
       "                                              answer  \\\n",
       "0                           12 years old and younger   \n",
       "1                                   15 mph (25 km/h)   \n",
       "2                        on the driver's door pillar   \n",
       "3  Pull the window switch up past the second notc...   \n",
       "4                              on the center display   \n",
       "5                               The previous setting   \n",
       "6  The ambient lighting sensors in the rearview m...   \n",
       "7  Contact Rivian immediately to have the airbag ...   \n",
       "8  On the interior of the windshield behind the r...   \n",
       "9  Choose the Vehicle button, then in the Access ...   \n",
       "\n",
       "                                             context  \n",
       "0  74Children  in Rear  Seats\\nAlthough  your  ve...  \n",
       "1  81NOTES   \\n  lIn below  freezing  temperature...  \n",
       "2  85Load  Capacity\\nThe  Tire  and  Loading  Inf...  \n",
       "3  76WINDOWS\\nOpen  or Close  Windows\\nOPEN  OR C...  \n",
       "4  73\\nDANGER   \\n  lFollow  the proper  seating ...  \n",
       "5  switch  for that  window  on the driver's  doo...  \n",
       "6  the side  mirrors  unfold  automatically  when...  \n",
       "7  Rivian  immediately  to have  the airbag  syst...  \n",
       "8  79Toll  Devices\\nTo determine  where  to place...  \n",
       "9  77Lock  or Unlock  Passenger  Windows\\nTo lock...  "
      ]
     },
     "execution_count": 21,
     "metadata": {},
     "output_type": "execute_result"
    }
   ],
   "source": [
    "import pandas as pd\n",
    "\n",
    "samples_df = pd.DataFrame(outputs)\n",
    "samples_df.head(10)"
   ]
  },
  {
   "cell_type": "markdown",
   "metadata": {},
   "source": [
    "### 1.4 Saving outputs as a jsonl dataset"
   ]
  },
  {
   "cell_type": "code",
   "execution_count": 10,
   "metadata": {},
   "outputs": [],
   "source": [
    "file_path = './data/qa_couples.jsonl'\n",
    "samples_df.to_json(file_path, orient='records', lines=True)"
   ]
  },
  {
   "cell_type": "markdown",
   "metadata": {},
   "source": [
    "### 1.5 Write documents to Azure AI Search using Langchain"
   ]
  },
  {
   "cell_type": "code",
   "execution_count": 5,
   "metadata": {},
   "outputs": [],
   "source": [
    "from azure.search.documents.indexes import SearchIndexClient\n",
    "from azure.core.credentials import AzureKeyCredential\n",
    "\n",
    "\n",
    "search_endpoint = os.getenv(\"AZURE_SEARCH_ENDPOINT\")\n",
    "search_credential = os.environ[\"AZURE_SEARCH_ADMIN_KEY\"]\n",
    "index_name = \"rivian-owner-guide-recursivesplitter\""
   ]
  },
  {
   "cell_type": "code",
   "execution_count": 6,
   "metadata": {},
   "outputs": [],
   "source": [
    "from langchain_openai import AzureOpenAIEmbeddings\n",
    "\n",
    "# Use API key if provided, otherwise use RBAC authentication\n",
    "embeddings = AzureOpenAIEmbeddings(\n",
    "    azure_deployment=\"text-embedding-ada-002\",\n",
    "    openai_api_version=\"2024-02-01\",\n",
    "    azure_endpoint=os.getenv(\"AZURE_OPENAI_ENDPOINT\"),\n",
    "    api_key=os.getenv(\"AZURE_OPENAI_API_KEY\"),\n",
    ")   "
   ]
  },
  {
   "cell_type": "code",
   "execution_count": 7,
   "metadata": {},
   "outputs": [],
   "source": [
    "from langchain.vectorstores.azuresearch import AzureSearch\n",
    "\n",
    "vector_store = AzureSearch(\n",
    "    azure_search_endpoint=search_endpoint,\n",
    "    azure_search_key=search_credential,\n",
    "    index_name=index_name,\n",
    "    embedding_function=embeddings.embed_query,\n",
    "    semantic_configuration_name=\"default\"\n",
    ")"
   ]
  },
  {
   "cell_type": "code",
   "execution_count": 11,
   "metadata": {},
   "outputs": [
    {
     "name": "stdout",
     "output_type": "stream",
     "text": [
      "Indexed 25 chunks\n"
     ]
    }
   ],
   "source": [
    "results = vector_store.add_documents(documents=chunks)\n",
    "print(f\"Indexed {len(chunks)} chunks\")"
   ]
  },
  {
   "cell_type": "markdown",
   "metadata": {},
   "source": [
    "### 1.6 Test the newly created Azure AI Search index"
   ]
  },
  {
   "cell_type": "code",
   "execution_count": 26,
   "metadata": {},
   "outputs": [
    {
     "name": "stdout",
     "output_type": "stream",
     "text": [
      "What may cause the OCS to not classify the front seat occupant properly?\n"
     ]
    }
   ],
   "source": [
    "import random\n",
    "# Assuming 'df' is your DataFrame\n",
    "random_row = samples_df.sample(n=1)\n",
    "\n",
    "# Access the values of the random row\n",
    "test_question = random_row['question'].values[0]\n",
    "\n",
    "print(test_question)"
   ]
  },
  {
   "cell_type": "code",
   "execution_count": 27,
   "metadata": {},
   "outputs": [
    {
     "name": "stdout",
     "output_type": "stream",
     "text": [
      "--------------------------------------------------------------------------------\n",
      "Source: ./data/r1t-owner-guide.pdf\n",
      "Chunk Content: 71OCCUPANCY  DETECTION\n",
      "To ensure  that  the Occupant  Classification  System  (OCS)  is properly  classifying  the front  seat  occupant,  the \n",
      "occupant  must:\n",
      "  lSit upright  on the center  of the seat  cushion,  with  shoulders  and  back  resting  against  the seat  back,  and  with  \n",
      "legs  comfortably  extended  on the floor.\n",
      "  lRemain  seated  on the center  of the seat  cushion  for the duration  of the trip.\n",
      "The  OCS  may  not classify  the front  seat  occupant  properly  if the occupant  does  any of the following:\n",
      "  lFails  to sit in an upright  position.\n",
      "  lLeans  against  the door  or center  console.\n",
      "  lSits  toward  the front  edge  of the seat.\n",
      "  lPuts  their  legs  and  feet  on the dashboard.\n",
      "  lPulls  the seat  belt  all the way  out activating  the Automatic  Locking  Retractor  (ALR).\n",
      "If an occupant  of adult  size  is sitting  in the front  passenger  seat,  but the Passenger  Airbag  Off indicator  on the\n",
      "--------------------------------------------------------------------------------\n",
      "Source: ./data/r1t-owner-guide.pdf\n",
      "Chunk Content: Rivian  immediately  to have  the airbag  system  checked.\n",
      "Certain  conditions  can  also  interfere  with  the accuracy  of the OCS.  To ensure  that  the OCS  is properly  \n",
      "classifying  the front  seat  occupant,  eliminate  the following:\n",
      "  lObjects  under  the seat.\n",
      "  lHeavy  objects  placed  on the seat  (luggage,  briefcase,  large  purse,  or groceries).\n",
      "  lObjects  wedged  between  the seat  back  and  seat  cushion.\n",
      "  lObjects  wedged  between  the seat  cushion  and  center  console.\n",
      "  lHeavy  objects  on the occupant’s  lap.\n",
      "  lCar  seat  accessories  like seat  covers,  cushions,  heavy  blankets,  or massagers  on the seat  structure.\n",
      "These  conditions  can  interfere  with  the OCS.  If you  have  eliminated  the above  conditions,  and  the airbag  status  \n",
      "is still incorrect,  instruct  your  passenger  to sit properly  in the rear  seats.  Do not allow  an occupant  to sit in the \n",
      "front  passenger  seat.  Contact  Rivian  immediately  to have  the airbag  system  checked.\n",
      "ACCESSANDSAFETY\n",
      "--------------------------------------------------------------------------------\n",
      "Source: ./data/r1t-owner-guide.pdf\n",
      "Chunk Content: If an occupant  of adult  size  is sitting  in the front  passenger  seat,  but the Passenger  Airbag  Off indicator  on the \n",
      "center  display  is turned  on (illuminated),  it is possible  that  the occupant  is not sitting  properly  in the seat.  If this  \n",
      "happens:\n",
      "  lHave  the occupant  sit upright  on the center  of the seat  cushion,  with  shoulders  and  back  resting  against  the \n",
      "seat  back,  and  with  legs  comfortably  extended  on the floor.\n",
      "  lIt takes  approximately  8 seconds  after  sitting  in the seat  for the OCS  to accurately  report  the status  of the \n",
      "front  passenger  airbag  on the center  display.  After  8 seconds,  if the airbag  status  is still incorrect,  instruct  your  \n",
      "passenger  to sit properly  in the rear  seats.  Do not allow  an occupant  to sit in the front  passenger  seat.  Contact  \n",
      "Rivian  immediately  to have  the airbag  system  checked.\n",
      "Certain  conditions  can  also  interfere  with  the accuracy  of the OCS.  To ensure  that  the OCS  is properly\n"
     ]
    }
   ],
   "source": [
    "#Perform a hybrid search\n",
    "docs = vector_store.similarity_search(\n",
    "    query=test_question,\n",
    "    k=3, \n",
    "    search_type=\"hybrid\"\n",
    ")\n",
    "docs = docs[:3]\n",
    "for doc in docs:\n",
    "    print(\"-\" * 80)  \n",
    "    print(f\"Source: {doc.metadata['source']}\")\n",
    "    print(f\"Chunk Content: {doc.page_content}\")"
   ]
  },
  {
   "cell_type": "code",
   "execution_count": null,
   "metadata": {},
   "outputs": [],
   "source": []
  }
 ],
 "metadata": {
  "kernelspec": {
   "display_name": "openai",
   "language": "python",
   "name": "python3"
  },
  "language_info": {
   "codemirror_mode": {
    "name": "ipython",
    "version": 3
   },
   "file_extension": ".py",
   "mimetype": "text/x-python",
   "name": "python",
   "nbconvert_exporter": "python",
   "pygments_lexer": "ipython3",
   "version": "3.11.8"
  }
 },
 "nbformat": 4,
 "nbformat_minor": 2
}
